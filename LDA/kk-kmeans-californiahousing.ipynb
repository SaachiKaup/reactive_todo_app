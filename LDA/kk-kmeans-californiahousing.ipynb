{
 "cells": [
  {
   "cell_type": "code",
   "execution_count": 1,
   "id": "2d256a67",
   "metadata": {
    "execution": {
     "iopub.execute_input": "2021-09-23T10:37:57.404509Z",
     "iopub.status.busy": "2021-09-23T10:37:57.403718Z",
     "iopub.status.idle": "2021-09-23T10:37:58.629922Z",
     "shell.execute_reply": "2021-09-23T10:37:58.629265Z",
     "shell.execute_reply.started": "2021-09-23T10:20:48.796298Z"
    },
    "papermill": {
     "duration": 1.251626,
     "end_time": "2021-09-23T10:37:58.630114",
     "exception": false,
     "start_time": "2021-09-23T10:37:57.378488",
     "status": "completed"
    },
    "tags": []
   },
   "outputs": [],
   "source": [
    "import pandas as pd\n",
    "import numpy as np\n",
    "import matplotlib.pyplot as plt\n",
    "import seaborn as sns\n",
    "\n",
    "from sklearn.preprocessing import StandardScaler\n",
    "from sklearn.cluster import KMeans\n",
    "from itertools import cycle, islice\n",
    "from pandas.plotting import parallel_coordinates"
   ]
  },
  {
   "cell_type": "code",
   "execution_count": 2,
   "id": "876761e1",
   "metadata": {
    "execution": {
     "iopub.execute_input": "2021-09-23T10:37:58.678998Z",
     "iopub.status.busy": "2021-09-23T10:37:58.666356Z",
     "iopub.status.idle": "2021-09-23T10:38:06.886797Z",
     "shell.execute_reply": "2021-09-23T10:38:06.886009Z",
     "shell.execute_reply.started": "2021-09-23T10:20:50.082138Z"
    },
    "papermill": {
     "duration": 8.240534,
     "end_time": "2021-09-23T10:38:06.886961",
     "exception": false,
     "start_time": "2021-09-23T10:37:58.646427",
     "status": "completed"
    },
    "tags": []
   },
   "outputs": [
    {
     "name": "stdout",
     "output_type": "stream",
     "text": [
      "Collecting kneed\r\n",
      "  Downloading kneed-0.7.0-py2.py3-none-any.whl (9.4 kB)\r\n",
      "Requirement already satisfied: matplotlib in /opt/conda/lib/python3.7/site-packages (from kneed) (3.4.3)\r\n",
      "Requirement already satisfied: scipy in /opt/conda/lib/python3.7/site-packages (from kneed) (1.7.1)\r\n",
      "Requirement already satisfied: numpy>=1.14.2 in /opt/conda/lib/python3.7/site-packages (from kneed) (1.19.5)\r\n",
      "Requirement already satisfied: pyparsing>=2.2.1 in /opt/conda/lib/python3.7/site-packages (from matplotlib->kneed) (2.4.7)\r\n",
      "Requirement already satisfied: kiwisolver>=1.0.1 in /opt/conda/lib/python3.7/site-packages (from matplotlib->kneed) (1.3.1)\r\n",
      "Requirement already satisfied: cycler>=0.10 in /opt/conda/lib/python3.7/site-packages (from matplotlib->kneed) (0.10.0)\r\n",
      "Requirement already satisfied: python-dateutil>=2.7 in /opt/conda/lib/python3.7/site-packages (from matplotlib->kneed) (2.8.0)\r\n",
      "Requirement already satisfied: pillow>=6.2.0 in /opt/conda/lib/python3.7/site-packages (from matplotlib->kneed) (8.3.1)\r\n",
      "Requirement already satisfied: six in /opt/conda/lib/python3.7/site-packages (from cycler>=0.10->matplotlib->kneed) (1.15.0)\r\n",
      "Installing collected packages: kneed\r\n",
      "Successfully installed kneed-0.7.0\r\n",
      "\u001b[33mWARNING: Running pip as the 'root' user can result in broken permissions and conflicting behaviour with the system package manager. It is recommended to use a virtual environment instead: https://pip.pypa.io/warnings/venv\u001b[0m\r\n"
     ]
    }
   ],
   "source": [
    "!pip install --upgrade kneed"
   ]
  },
  {
   "cell_type": "code",
   "execution_count": 3,
   "id": "e2abce29",
   "metadata": {
    "execution": {
     "iopub.execute_input": "2021-09-23T10:38:06.923529Z",
     "iopub.status.busy": "2021-09-23T10:38:06.921748Z",
     "iopub.status.idle": "2021-09-23T10:38:06.995230Z",
     "shell.execute_reply": "2021-09-23T10:38:06.994140Z",
     "shell.execute_reply.started": "2021-09-23T10:20:58.383415Z"
    },
    "papermill": {
     "duration": 0.092176,
     "end_time": "2021-09-23T10:38:06.995396",
     "exception": false,
     "start_time": "2021-09-23T10:38:06.903220",
     "status": "completed"
    },
    "tags": []
   },
   "outputs": [],
   "source": [
    "from kneed import KneeLocator\n",
    "from sklearn.metrics import silhouette_score"
   ]
  },
  {
   "cell_type": "code",
   "execution_count": 4,
   "id": "fafa574a",
   "metadata": {
    "execution": {
     "iopub.execute_input": "2021-09-23T10:38:07.031186Z",
     "iopub.status.busy": "2021-09-23T10:38:07.030585Z",
     "iopub.status.idle": "2021-09-23T10:38:07.086504Z",
     "shell.execute_reply": "2021-09-23T10:38:07.085991Z",
     "shell.execute_reply.started": "2021-09-23T10:20:58.460266Z"
    },
    "papermill": {
     "duration": 0.074795,
     "end_time": "2021-09-23T10:38:07.086645",
     "exception": false,
     "start_time": "2021-09-23T10:38:07.011850",
     "status": "completed"
    },
    "tags": []
   },
   "outputs": [],
   "source": [
    "data = pd.read_csv('../input/california-housing-prices/housing.csv')"
   ]
  },
  {
   "cell_type": "code",
   "execution_count": 5,
   "id": "0eac9c0e",
   "metadata": {
    "execution": {
     "iopub.execute_input": "2021-09-23T10:38:07.122209Z",
     "iopub.status.busy": "2021-09-23T10:38:07.121366Z",
     "iopub.status.idle": "2021-09-23T10:38:07.147745Z",
     "shell.execute_reply": "2021-09-23T10:38:07.147277Z",
     "shell.execute_reply.started": "2021-09-23T10:20:58.513581Z"
    },
    "papermill": {
     "duration": 0.045434,
     "end_time": "2021-09-23T10:38:07.147884",
     "exception": false,
     "start_time": "2021-09-23T10:38:07.102450",
     "status": "completed"
    },
    "tags": []
   },
   "outputs": [
    {
     "name": "stdout",
     "output_type": "stream",
     "text": [
      "<class 'pandas.core.frame.DataFrame'>\n",
      "RangeIndex: 20640 entries, 0 to 20639\n",
      "Data columns (total 10 columns):\n",
      " #   Column              Non-Null Count  Dtype  \n",
      "---  ------              --------------  -----  \n",
      " 0   longitude           20640 non-null  float64\n",
      " 1   latitude            20640 non-null  float64\n",
      " 2   housing_median_age  20640 non-null  float64\n",
      " 3   total_rooms         20640 non-null  float64\n",
      " 4   total_bedrooms      20433 non-null  float64\n",
      " 5   population          20640 non-null  float64\n",
      " 6   households          20640 non-null  float64\n",
      " 7   median_income       20640 non-null  float64\n",
      " 8   median_house_value  20640 non-null  float64\n",
      " 9   ocean_proximity     20640 non-null  object \n",
      "dtypes: float64(9), object(1)\n",
      "memory usage: 1.6+ MB\n"
     ]
    }
   ],
   "source": [
    "data.info()"
   ]
  },
  {
   "cell_type": "code",
   "execution_count": 6,
   "id": "522ee610",
   "metadata": {
    "execution": {
     "iopub.execute_input": "2021-09-23T10:38:07.187989Z",
     "iopub.status.busy": "2021-09-23T10:38:07.187184Z",
     "iopub.status.idle": "2021-09-23T10:38:07.205924Z",
     "shell.execute_reply": "2021-09-23T10:38:07.205355Z",
     "shell.execute_reply.started": "2021-09-23T10:20:58.542535Z"
    },
    "papermill": {
     "duration": 0.042007,
     "end_time": "2021-09-23T10:38:07.206061",
     "exception": false,
     "start_time": "2021-09-23T10:38:07.164054",
     "status": "completed"
    },
    "tags": []
   },
   "outputs": [
    {
     "data": {
      "text/html": [
       "<div>\n",
       "<style scoped>\n",
       "    .dataframe tbody tr th:only-of-type {\n",
       "        vertical-align: middle;\n",
       "    }\n",
       "\n",
       "    .dataframe tbody tr th {\n",
       "        vertical-align: top;\n",
       "    }\n",
       "\n",
       "    .dataframe thead th {\n",
       "        text-align: right;\n",
       "    }\n",
       "</style>\n",
       "<table border=\"1\" class=\"dataframe\">\n",
       "  <thead>\n",
       "    <tr style=\"text-align: right;\">\n",
       "      <th></th>\n",
       "      <th>longitude</th>\n",
       "      <th>latitude</th>\n",
       "      <th>housing_median_age</th>\n",
       "      <th>total_rooms</th>\n",
       "      <th>total_bedrooms</th>\n",
       "      <th>population</th>\n",
       "      <th>households</th>\n",
       "      <th>median_income</th>\n",
       "      <th>median_house_value</th>\n",
       "      <th>ocean_proximity</th>\n",
       "    </tr>\n",
       "  </thead>\n",
       "  <tbody>\n",
       "    <tr>\n",
       "      <th>0</th>\n",
       "      <td>-122.23</td>\n",
       "      <td>37.88</td>\n",
       "      <td>41.0</td>\n",
       "      <td>880.0</td>\n",
       "      <td>129.0</td>\n",
       "      <td>322.0</td>\n",
       "      <td>126.0</td>\n",
       "      <td>8.3252</td>\n",
       "      <td>452600.0</td>\n",
       "      <td>NEAR BAY</td>\n",
       "    </tr>\n",
       "    <tr>\n",
       "      <th>1</th>\n",
       "      <td>-122.22</td>\n",
       "      <td>37.86</td>\n",
       "      <td>21.0</td>\n",
       "      <td>7099.0</td>\n",
       "      <td>1106.0</td>\n",
       "      <td>2401.0</td>\n",
       "      <td>1138.0</td>\n",
       "      <td>8.3014</td>\n",
       "      <td>358500.0</td>\n",
       "      <td>NEAR BAY</td>\n",
       "    </tr>\n",
       "    <tr>\n",
       "      <th>2</th>\n",
       "      <td>-122.24</td>\n",
       "      <td>37.85</td>\n",
       "      <td>52.0</td>\n",
       "      <td>1467.0</td>\n",
       "      <td>190.0</td>\n",
       "      <td>496.0</td>\n",
       "      <td>177.0</td>\n",
       "      <td>7.2574</td>\n",
       "      <td>352100.0</td>\n",
       "      <td>NEAR BAY</td>\n",
       "    </tr>\n",
       "    <tr>\n",
       "      <th>3</th>\n",
       "      <td>-122.25</td>\n",
       "      <td>37.85</td>\n",
       "      <td>52.0</td>\n",
       "      <td>1274.0</td>\n",
       "      <td>235.0</td>\n",
       "      <td>558.0</td>\n",
       "      <td>219.0</td>\n",
       "      <td>5.6431</td>\n",
       "      <td>341300.0</td>\n",
       "      <td>NEAR BAY</td>\n",
       "    </tr>\n",
       "    <tr>\n",
       "      <th>4</th>\n",
       "      <td>-122.25</td>\n",
       "      <td>37.85</td>\n",
       "      <td>52.0</td>\n",
       "      <td>1627.0</td>\n",
       "      <td>280.0</td>\n",
       "      <td>565.0</td>\n",
       "      <td>259.0</td>\n",
       "      <td>3.8462</td>\n",
       "      <td>342200.0</td>\n",
       "      <td>NEAR BAY</td>\n",
       "    </tr>\n",
       "  </tbody>\n",
       "</table>\n",
       "</div>"
      ],
      "text/plain": [
       "   longitude  latitude  housing_median_age  total_rooms  total_bedrooms  \\\n",
       "0    -122.23     37.88                41.0        880.0           129.0   \n",
       "1    -122.22     37.86                21.0       7099.0          1106.0   \n",
       "2    -122.24     37.85                52.0       1467.0           190.0   \n",
       "3    -122.25     37.85                52.0       1274.0           235.0   \n",
       "4    -122.25     37.85                52.0       1627.0           280.0   \n",
       "\n",
       "   population  households  median_income  median_house_value ocean_proximity  \n",
       "0       322.0       126.0         8.3252            452600.0        NEAR BAY  \n",
       "1      2401.0      1138.0         8.3014            358500.0        NEAR BAY  \n",
       "2       496.0       177.0         7.2574            352100.0        NEAR BAY  \n",
       "3       558.0       219.0         5.6431            341300.0        NEAR BAY  \n",
       "4       565.0       259.0         3.8462            342200.0        NEAR BAY  "
      ]
     },
     "execution_count": 6,
     "metadata": {},
     "output_type": "execute_result"
    }
   ],
   "source": [
    "data.head()"
   ]
  },
  {
   "cell_type": "code",
   "execution_count": 7,
   "id": "8bc29b3c",
   "metadata": {
    "execution": {
     "iopub.execute_input": "2021-09-23T10:38:07.248140Z",
     "iopub.status.busy": "2021-09-23T10:38:07.247184Z",
     "iopub.status.idle": "2021-09-23T10:38:07.281318Z",
     "shell.execute_reply": "2021-09-23T10:38:07.281738Z",
     "shell.execute_reply.started": "2021-09-23T10:20:58.568138Z"
    },
    "papermill": {
     "duration": 0.05839,
     "end_time": "2021-09-23T10:38:07.281923",
     "exception": false,
     "start_time": "2021-09-23T10:38:07.223533",
     "status": "completed"
    },
    "tags": []
   },
   "outputs": [
    {
     "data": {
      "text/html": [
       "<div>\n",
       "<style scoped>\n",
       "    .dataframe tbody tr th:only-of-type {\n",
       "        vertical-align: middle;\n",
       "    }\n",
       "\n",
       "    .dataframe tbody tr th {\n",
       "        vertical-align: top;\n",
       "    }\n",
       "\n",
       "    .dataframe thead th {\n",
       "        text-align: right;\n",
       "    }\n",
       "</style>\n",
       "<table border=\"1\" class=\"dataframe\">\n",
       "  <thead>\n",
       "    <tr style=\"text-align: right;\">\n",
       "      <th></th>\n",
       "      <th>count</th>\n",
       "      <th>mean</th>\n",
       "      <th>std</th>\n",
       "      <th>min</th>\n",
       "      <th>25%</th>\n",
       "      <th>50%</th>\n",
       "      <th>75%</th>\n",
       "      <th>max</th>\n",
       "    </tr>\n",
       "  </thead>\n",
       "  <tbody>\n",
       "    <tr>\n",
       "      <th>longitude</th>\n",
       "      <td>20640.0</td>\n",
       "      <td>-119.569704</td>\n",
       "      <td>2.003532</td>\n",
       "      <td>-124.3500</td>\n",
       "      <td>-121.8000</td>\n",
       "      <td>-118.4900</td>\n",
       "      <td>-118.01000</td>\n",
       "      <td>-114.3100</td>\n",
       "    </tr>\n",
       "    <tr>\n",
       "      <th>latitude</th>\n",
       "      <td>20640.0</td>\n",
       "      <td>35.631861</td>\n",
       "      <td>2.135952</td>\n",
       "      <td>32.5400</td>\n",
       "      <td>33.9300</td>\n",
       "      <td>34.2600</td>\n",
       "      <td>37.71000</td>\n",
       "      <td>41.9500</td>\n",
       "    </tr>\n",
       "    <tr>\n",
       "      <th>housing_median_age</th>\n",
       "      <td>20640.0</td>\n",
       "      <td>28.639486</td>\n",
       "      <td>12.585558</td>\n",
       "      <td>1.0000</td>\n",
       "      <td>18.0000</td>\n",
       "      <td>29.0000</td>\n",
       "      <td>37.00000</td>\n",
       "      <td>52.0000</td>\n",
       "    </tr>\n",
       "    <tr>\n",
       "      <th>total_rooms</th>\n",
       "      <td>20640.0</td>\n",
       "      <td>2635.763081</td>\n",
       "      <td>2181.615252</td>\n",
       "      <td>2.0000</td>\n",
       "      <td>1447.7500</td>\n",
       "      <td>2127.0000</td>\n",
       "      <td>3148.00000</td>\n",
       "      <td>39320.0000</td>\n",
       "    </tr>\n",
       "    <tr>\n",
       "      <th>total_bedrooms</th>\n",
       "      <td>20433.0</td>\n",
       "      <td>537.870553</td>\n",
       "      <td>421.385070</td>\n",
       "      <td>1.0000</td>\n",
       "      <td>296.0000</td>\n",
       "      <td>435.0000</td>\n",
       "      <td>647.00000</td>\n",
       "      <td>6445.0000</td>\n",
       "    </tr>\n",
       "    <tr>\n",
       "      <th>population</th>\n",
       "      <td>20640.0</td>\n",
       "      <td>1425.476744</td>\n",
       "      <td>1132.462122</td>\n",
       "      <td>3.0000</td>\n",
       "      <td>787.0000</td>\n",
       "      <td>1166.0000</td>\n",
       "      <td>1725.00000</td>\n",
       "      <td>35682.0000</td>\n",
       "    </tr>\n",
       "    <tr>\n",
       "      <th>households</th>\n",
       "      <td>20640.0</td>\n",
       "      <td>499.539680</td>\n",
       "      <td>382.329753</td>\n",
       "      <td>1.0000</td>\n",
       "      <td>280.0000</td>\n",
       "      <td>409.0000</td>\n",
       "      <td>605.00000</td>\n",
       "      <td>6082.0000</td>\n",
       "    </tr>\n",
       "    <tr>\n",
       "      <th>median_income</th>\n",
       "      <td>20640.0</td>\n",
       "      <td>3.870671</td>\n",
       "      <td>1.899822</td>\n",
       "      <td>0.4999</td>\n",
       "      <td>2.5634</td>\n",
       "      <td>3.5348</td>\n",
       "      <td>4.74325</td>\n",
       "      <td>15.0001</td>\n",
       "    </tr>\n",
       "    <tr>\n",
       "      <th>median_house_value</th>\n",
       "      <td>20640.0</td>\n",
       "      <td>206855.816909</td>\n",
       "      <td>115395.615874</td>\n",
       "      <td>14999.0000</td>\n",
       "      <td>119600.0000</td>\n",
       "      <td>179700.0000</td>\n",
       "      <td>264725.00000</td>\n",
       "      <td>500001.0000</td>\n",
       "    </tr>\n",
       "  </tbody>\n",
       "</table>\n",
       "</div>"
      ],
      "text/plain": [
       "                      count           mean            std         min  \\\n",
       "longitude           20640.0    -119.569704       2.003532   -124.3500   \n",
       "latitude            20640.0      35.631861       2.135952     32.5400   \n",
       "housing_median_age  20640.0      28.639486      12.585558      1.0000   \n",
       "total_rooms         20640.0    2635.763081    2181.615252      2.0000   \n",
       "total_bedrooms      20433.0     537.870553     421.385070      1.0000   \n",
       "population          20640.0    1425.476744    1132.462122      3.0000   \n",
       "households          20640.0     499.539680     382.329753      1.0000   \n",
       "median_income       20640.0       3.870671       1.899822      0.4999   \n",
       "median_house_value  20640.0  206855.816909  115395.615874  14999.0000   \n",
       "\n",
       "                            25%          50%           75%          max  \n",
       "longitude             -121.8000    -118.4900    -118.01000    -114.3100  \n",
       "latitude                33.9300      34.2600      37.71000      41.9500  \n",
       "housing_median_age      18.0000      29.0000      37.00000      52.0000  \n",
       "total_rooms           1447.7500    2127.0000    3148.00000   39320.0000  \n",
       "total_bedrooms         296.0000     435.0000     647.00000    6445.0000  \n",
       "population             787.0000    1166.0000    1725.00000   35682.0000  \n",
       "households             280.0000     409.0000     605.00000    6082.0000  \n",
       "median_income            2.5634       3.5348       4.74325      15.0001  \n",
       "median_house_value  119600.0000  179700.0000  264725.00000  500001.0000  "
      ]
     },
     "execution_count": 7,
     "metadata": {},
     "output_type": "execute_result"
    }
   ],
   "source": [
    "data.describe().transpose()"
   ]
  },
  {
   "cell_type": "code",
   "execution_count": 8,
   "id": "66968df1",
   "metadata": {
    "execution": {
     "iopub.execute_input": "2021-09-23T10:38:07.319389Z",
     "iopub.status.busy": "2021-09-23T10:38:07.318499Z",
     "iopub.status.idle": "2021-09-23T10:38:07.324716Z",
     "shell.execute_reply": "2021-09-23T10:38:07.325177Z",
     "shell.execute_reply.started": "2021-09-23T10:20:58.610484Z"
    },
    "papermill": {
     "duration": 0.026886,
     "end_time": "2021-09-23T10:38:07.325337",
     "exception": false,
     "start_time": "2021-09-23T10:38:07.298451",
     "status": "completed"
    },
    "tags": []
   },
   "outputs": [
    {
     "data": {
      "text/plain": [
       "Index(['longitude', 'latitude'], dtype='object')"
      ]
     },
     "execution_count": 8,
     "metadata": {},
     "output_type": "execute_result"
    }
   ],
   "source": [
    "features = ['longitude', 'latitude']\n",
    "select_df = data[features]\n",
    "select_df.columns"
   ]
  },
  {
   "cell_type": "code",
   "execution_count": 9,
   "id": "5cb30388",
   "metadata": {
    "execution": {
     "iopub.execute_input": "2021-09-23T10:38:07.364405Z",
     "iopub.status.busy": "2021-09-23T10:38:07.361679Z",
     "iopub.status.idle": "2021-09-23T10:38:07.371348Z",
     "shell.execute_reply": "2021-09-23T10:38:07.370919Z",
     "shell.execute_reply.started": "2021-09-23T10:20:58.618167Z"
    },
    "papermill": {
     "duration": 0.029194,
     "end_time": "2021-09-23T10:38:07.371478",
     "exception": false,
     "start_time": "2021-09-23T10:38:07.342284",
     "status": "completed"
    },
    "tags": []
   },
   "outputs": [
    {
     "data": {
      "text/plain": [
       "array([[-1.32783522,  1.05254828],\n",
       "       [-1.32284391,  1.04318455],\n",
       "       [-1.33282653,  1.03850269],\n",
       "       [-1.33781784,  1.03850269],\n",
       "       [-1.33781784,  1.03850269]])"
      ]
     },
     "execution_count": 9,
     "metadata": {},
     "output_type": "execute_result"
    }
   ],
   "source": [
    "X = StandardScaler().fit_transform(select_df)\n",
    "X[:5]"
   ]
  },
  {
   "cell_type": "code",
   "execution_count": 10,
   "id": "07124882",
   "metadata": {
    "execution": {
     "iopub.execute_input": "2021-09-23T10:38:07.411572Z",
     "iopub.status.busy": "2021-09-23T10:38:07.410992Z",
     "iopub.status.idle": "2021-09-23T10:38:08.820744Z",
     "shell.execute_reply": "2021-09-23T10:38:08.821326Z",
     "shell.execute_reply.started": "2021-09-23T10:20:58.640444Z"
    },
    "papermill": {
     "duration": 1.432552,
     "end_time": "2021-09-23T10:38:08.821517",
     "exception": false,
     "start_time": "2021-09-23T10:38:07.388965",
     "status": "completed"
    },
    "tags": []
   },
   "outputs": [],
   "source": [
    "kmeans_kwargs = {\n",
    "    \"init\": \"random\",\n",
    "    \"n_init\": 10,\n",
    "    \"max_iter\": 300,\n",
    "    \"random_state\": 42,\n",
    "}\n",
    "\n",
    "sse = []\n",
    "for k in range (1, 11):\n",
    "    kmeans = KMeans(n_clusters=k, **kmeans_kwargs)\n",
    "    kmeans.fit(X)\n",
    "    sse.append(kmeans.inertia_)"
   ]
  },
  {
   "cell_type": "code",
   "execution_count": 11,
   "id": "ee686a71",
   "metadata": {
    "execution": {
     "iopub.execute_input": "2021-09-23T10:38:08.879534Z",
     "iopub.status.busy": "2021-09-23T10:38:08.878805Z",
     "iopub.status.idle": "2021-09-23T10:38:09.141030Z",
     "shell.execute_reply": "2021-09-23T10:38:09.140414Z",
     "shell.execute_reply.started": "2021-09-23T10:21:00.026279Z"
    },
    "papermill": {
     "duration": 0.297395,
     "end_time": "2021-09-23T10:38:09.141187",
     "exception": false,
     "start_time": "2021-09-23T10:38:08.843792",
     "status": "completed"
    },
    "tags": []
   },
   "outputs": [
    {
     "data": {
      "image/png": "[encoded data removed]",
      "text/plain": [
       "<Figure size 432x288 with 1 Axes>"
      ]
     },
     "metadata": {},
     "output_type": "display_data"
    }
   ],
   "source": [
    "plt.style.use(\"fivethirtyeight\")\n",
    "plt.plot(range(1, 11), sse)\n",
    "plt.xticks(range(1, 11))\n",
    "plt.xlabel(\"Number of Clusters\")\n",
    "plt.ylabel(\"SSE\")\n",
    "plt.show()"
   ]
  },
  {
   "cell_type": "code",
   "execution_count": 12,
   "id": "073433f2",
   "metadata": {
    "execution": {
     "iopub.execute_input": "2021-09-23T10:38:09.200646Z",
     "iopub.status.busy": "2021-09-23T10:38:09.200010Z",
     "iopub.status.idle": "2021-09-23T10:39:00.290439Z",
     "shell.execute_reply": "2021-09-23T10:39:00.289822Z",
     "shell.execute_reply.started": "2021-09-23T10:21:00.454662Z"
    },
    "papermill": {
     "duration": 51.124836,
     "end_time": "2021-09-23T10:39:00.290577",
     "exception": false,
     "start_time": "2021-09-23T10:38:09.165741",
     "status": "completed"
    },
    "tags": []
   },
   "outputs": [],
   "source": [
    "silhouette_coefficients = []\n",
    "\n",
    "for k in range(2, 11):\n",
    "    kmeans = KMeans(n_clusters=k, **kmeans_kwargs)\n",
    "    kmeans.fit(X)\n",
    "    score = silhouette_score(X, kmeans.labels_)\n",
    "    silhouette_coefficients.append(score)"
   ]
  },
  {
   "cell_type": "code",
   "execution_count": 13,
   "id": "3d10d7e3",
   "metadata": {
    "execution": {
     "iopub.execute_input": "2021-09-23T10:39:00.479486Z",
     "iopub.status.busy": "2021-09-23T10:39:00.466952Z",
     "iopub.status.idle": "2021-09-23T10:39:00.661197Z",
     "shell.execute_reply": "2021-09-23T10:39:00.660540Z",
     "shell.execute_reply.started": "2021-09-23T10:21:53.063068Z"
    },
    "papermill": {
     "duration": 0.35093,
     "end_time": "2021-09-23T10:39:00.661348",
     "exception": false,
     "start_time": "2021-09-23T10:39:00.310418",
     "status": "completed"
    },
    "tags": []
   },
   "outputs": [
    {
     "data": {
      "image/png": "[encoded data removed]",
      "text/plain": [
       "<Figure size 432x288 with 1 Axes>"
      ]
     },
     "metadata": {},
     "output_type": "display_data"
    }
   ],
   "source": [
    "plt.style.use(\"fivethirtyeight\")\n",
    "plt.plot(range(2, 11), silhouette_coefficients)\n",
    "plt.xticks(range(2, 11))\n",
    "plt.xlabel(\"Number of Clusters\")\n",
    "plt.ylabel(\"Silhouette Coefficient\")\n",
    "plt.show()"
   ]
  },
  {
   "cell_type": "code",
   "execution_count": 14,
   "id": "8ab57566",
   "metadata": {
    "execution": {
     "iopub.execute_input": "2021-09-23T10:39:00.706238Z",
     "iopub.status.busy": "2021-09-23T10:39:00.705604Z",
     "iopub.status.idle": "2021-09-23T10:39:00.713588Z",
     "shell.execute_reply": "2021-09-23T10:39:00.714090Z",
     "shell.execute_reply.started": "2021-09-23T10:21:53.256587Z"
    },
    "papermill": {
     "duration": 0.032755,
     "end_time": "2021-09-23T10:39:00.714275",
     "exception": false,
     "start_time": "2021-09-23T10:39:00.681520",
     "status": "completed"
    },
    "tags": []
   },
   "outputs": [
    {
     "data": {
      "text/plain": [
       "2"
      ]
     },
     "execution_count": 14,
     "metadata": {},
     "output_type": "execute_result"
    }
   ],
   "source": [
    "kl = KneeLocator(\n",
    "    range(1, 11), sse, curve=\"convex\", direction=\"decreasing\"\n",
    ")\n",
    "\n",
    "kl.elbow"
   ]
  },
  {
   "cell_type": "code",
   "execution_count": 15,
   "id": "884988ff",
   "metadata": {
    "execution": {
     "iopub.execute_input": "2021-09-23T10:39:00.758959Z",
     "iopub.status.busy": "2021-09-23T10:39:00.758313Z",
     "iopub.status.idle": "2021-09-23T10:39:01.860376Z",
     "shell.execute_reply": "2021-09-23T10:39:01.860848Z",
     "shell.execute_reply.started": "2021-09-23T10:21:53.265827Z"
    },
    "papermill": {
     "duration": 1.126986,
     "end_time": "2021-09-23T10:39:01.861070",
     "exception": false,
     "start_time": "2021-09-23T10:39:00.734084",
     "status": "completed"
    },
    "tags": []
   },
   "outputs": [
    {
     "data": {
      "text/plain": [
       "KMeans(n_clusters=2)"
      ]
     },
     "execution_count": 15,
     "metadata": {},
     "output_type": "execute_result"
    }
   ],
   "source": [
    "kmeans = KMeans(n_clusters=kl.elbow)\n",
    "model = kmeans.fit(X)\n",
    "model"
   ]
  },
  {
   "cell_type": "code",
   "execution_count": 16,
   "id": "3e98e0ab",
   "metadata": {
    "execution": {
     "iopub.execute_input": "2021-09-23T10:39:01.918115Z",
     "iopub.status.busy": "2021-09-23T10:39:01.917243Z",
     "iopub.status.idle": "2021-09-23T10:39:01.920320Z",
     "shell.execute_reply": "2021-09-23T10:39:01.920951Z",
     "shell.execute_reply.started": "2021-09-23T10:21:54.402926Z"
    },
    "papermill": {
     "duration": 0.034736,
     "end_time": "2021-09-23T10:39:01.921133",
     "exception": false,
     "start_time": "2021-09-23T10:39:01.886397",
     "status": "completed"
    },
    "tags": []
   },
   "outputs": [
    {
     "data": {
      "text/plain": [
       "array([[-1.07506893,  1.08931386],\n",
       "       [ 0.77914873, -0.78947264]])"
      ]
     },
     "execution_count": 16,
     "metadata": {},
     "output_type": "execute_result"
    }
   ],
   "source": [
    "centers = model.cluster_centers_\n",
    "centers"
   ]
  },
  {
   "cell_type": "code",
   "execution_count": 17,
   "id": "b16e7ee8",
   "metadata": {
    "execution": {
     "iopub.execute_input": "2021-09-23T10:39:01.978815Z",
     "iopub.status.busy": "2021-09-23T10:39:01.977957Z",
     "iopub.status.idle": "2021-09-23T10:39:01.981081Z",
     "shell.execute_reply": "2021-09-23T10:39:01.981602Z",
     "shell.execute_reply.started": "2021-09-23T10:21:54.417833Z"
    },
    "papermill": {
     "duration": 0.035059,
     "end_time": "2021-09-23T10:39:01.981800",
     "exception": false,
     "start_time": "2021-09-23T10:39:01.946741",
     "status": "completed"
    },
    "tags": []
   },
   "outputs": [
    {
     "data": {
      "text/plain": [
       "(2, 2)"
      ]
     },
     "execution_count": 17,
     "metadata": {},
     "output_type": "execute_result"
    }
   ],
   "source": [
    "centers.shape"
   ]
  },
  {
   "cell_type": "code",
   "execution_count": 18,
   "id": "3f003d4c",
   "metadata": {
    "execution": {
     "iopub.execute_input": "2021-09-23T10:39:02.042999Z",
     "iopub.status.busy": "2021-09-23T10:39:02.042022Z",
     "iopub.status.idle": "2021-09-23T10:39:02.044209Z",
     "shell.execute_reply": "2021-09-23T10:39:02.043637Z",
     "shell.execute_reply.started": "2021-09-23T10:21:54.429837Z"
    },
    "papermill": {
     "duration": 0.036344,
     "end_time": "2021-09-23T10:39:02.044368",
     "exception": false,
     "start_time": "2021-09-23T10:39:02.008024",
     "status": "completed"
    },
    "tags": []
   },
   "outputs": [],
   "source": [
    "def pd_centers(featuresUsed, centers):\n",
    "    colNames = list(featuresUsed)\n",
    "    colNames.append('prediction')\n",
    "    \n",
    "    Z = [np.append(A, index) for index, A in enumerate(centers)]\n",
    "    \n",
    "    P = pd.DataFrame(Z, columns=colNames)\n",
    "    P['prediction'] = P['prediction'].astype(int)\n",
    "    return P"
   ]
  },
  {
   "cell_type": "code",
   "execution_count": 19,
   "id": "0cde45c5",
   "metadata": {
    "execution": {
     "iopub.execute_input": "2021-09-23T10:39:02.104339Z",
     "iopub.status.busy": "2021-09-23T10:39:02.103600Z",
     "iopub.status.idle": "2021-09-23T10:39:02.106882Z",
     "shell.execute_reply": "2021-09-23T10:39:02.107391Z",
     "shell.execute_reply.started": "2021-09-23T10:21:54.443202Z"
    },
    "papermill": {
     "duration": 0.036509,
     "end_time": "2021-09-23T10:39:02.107593",
     "exception": false,
     "start_time": "2021-09-23T10:39:02.071084",
     "status": "completed"
    },
    "tags": []
   },
   "outputs": [],
   "source": [
    "def parallel_plot(data):\n",
    "    myColors = list(islice(cycle(['b', 'r']), None, len(data)))\n",
    "    plt.figure(figsize=(15,8)).gca().axes.set_ylim([-2, +2])\n",
    "    parallel_coordinates(data, 'prediction', color=myColors, marker='o')"
   ]
  },
  {
   "cell_type": "code",
   "execution_count": 20,
   "id": "410b6200",
   "metadata": {
    "execution": {
     "iopub.execute_input": "2021-09-23T10:39:02.170127Z",
     "iopub.status.busy": "2021-09-23T10:39:02.168328Z",
     "iopub.status.idle": "2021-09-23T10:39:02.170847Z",
     "shell.execute_reply": "2021-09-23T10:39:02.171310Z",
     "shell.execute_reply.started": "2021-09-23T10:21:54.455222Z"
    },
    "papermill": {
     "duration": 0.037523,
     "end_time": "2021-09-23T10:39:02.171502",
     "exception": false,
     "start_time": "2021-09-23T10:39:02.133979",
     "status": "completed"
    },
    "tags": []
   },
   "outputs": [],
   "source": [
    "P = pd_centers(features, centers)"
   ]
  },
  {
   "cell_type": "code",
   "execution_count": 21,
   "id": "15fd31f5",
   "metadata": {
    "execution": {
     "iopub.execute_input": "2021-09-23T10:39:02.236382Z",
     "iopub.status.busy": "2021-09-23T10:39:02.235678Z",
     "iopub.status.idle": "2021-09-23T10:39:02.241715Z",
     "shell.execute_reply": "2021-09-23T10:39:02.242239Z",
     "shell.execute_reply.started": "2021-09-23T10:21:54.474087Z"
    },
    "papermill": {
     "duration": 0.043386,
     "end_time": "2021-09-23T10:39:02.242426",
     "exception": false,
     "start_time": "2021-09-23T10:39:02.199040",
     "status": "completed"
    },
    "tags": []
   },
   "outputs": [
    {
     "data": {
      "text/html": [
       "<div>\n",
       "<style scoped>\n",
       "    .dataframe tbody tr th:only-of-type {\n",
       "        vertical-align: middle;\n",
       "    }\n",
       "\n",
       "    .dataframe tbody tr th {\n",
       "        vertical-align: top;\n",
       "    }\n",
       "\n",
       "    .dataframe thead th {\n",
       "        text-align: right;\n",
       "    }\n",
       "</style>\n",
       "<table border=\"1\" class=\"dataframe\">\n",
       "  <thead>\n",
       "    <tr style=\"text-align: right;\">\n",
       "      <th></th>\n",
       "      <th>longitude</th>\n",
       "      <th>latitude</th>\n",
       "      <th>prediction</th>\n",
       "    </tr>\n",
       "  </thead>\n",
       "  <tbody>\n",
       "    <tr>\n",
       "      <th>0</th>\n",
       "      <td>-1.075069</td>\n",
       "      <td>1.089314</td>\n",
       "      <td>0</td>\n",
       "    </tr>\n",
       "    <tr>\n",
       "      <th>1</th>\n",
       "      <td>0.779149</td>\n",
       "      <td>-0.789473</td>\n",
       "      <td>1</td>\n",
       "    </tr>\n",
       "  </tbody>\n",
       "</table>\n",
       "</div>"
      ],
      "text/plain": [
       "   longitude  latitude  prediction\n",
       "0  -1.075069  1.089314           0\n",
       "1   0.779149 -0.789473           1"
      ]
     },
     "execution_count": 21,
     "metadata": {},
     "output_type": "execute_result"
    }
   ],
   "source": [
    "P"
   ]
  },
  {
   "cell_type": "code",
   "execution_count": 22,
   "id": "0a01c076",
   "metadata": {
    "execution": {
     "iopub.execute_input": "2021-09-23T10:39:02.310874Z",
     "iopub.status.busy": "2021-09-23T10:39:02.310207Z",
     "iopub.status.idle": "2021-09-23T10:39:02.538170Z",
     "shell.execute_reply": "2021-09-23T10:39:02.537638Z",
     "shell.execute_reply.started": "2021-09-23T10:21:54.492703Z"
    },
    "papermill": {
     "duration": 0.274253,
     "end_time": "2021-09-23T10:39:02.538321",
     "exception": false,
     "start_time": "2021-09-23T10:39:02.264068",
     "status": "completed"
    },
    "tags": []
   },
   "outputs": [
    {
     "data": {
      "image/png": "[encoded data removed]",
      "text/plain": [
       "<Figure size 1080x576 with 1 Axes>"
      ]
     },
     "metadata": {},
     "output_type": "display_data"
    }
   ],
   "source": [
    "parallel_plot(P)"
   ]
  },
  {
   "cell_type": "code",
   "execution_count": 23,
   "id": "989938cd",
   "metadata": {
    "execution": {
     "iopub.execute_input": "2021-09-23T10:39:02.585773Z",
     "iopub.status.busy": "2021-09-23T10:39:02.585176Z",
     "iopub.status.idle": "2021-09-23T10:39:03.868476Z",
     "shell.execute_reply": "2021-09-23T10:39:03.869335Z",
     "shell.execute_reply.started": "2021-09-23T10:21:54.778098Z"
    },
    "papermill": {
     "duration": 1.309092,
     "end_time": "2021-09-23T10:39:03.869525",
     "exception": false,
     "start_time": "2021-09-23T10:39:02.560433",
     "status": "completed"
    },
    "tags": []
   },
   "outputs": [
    {
     "data": {
      "text/html": [
       "<div>\n",
       "<style scoped>\n",
       "    .dataframe tbody tr th:only-of-type {\n",
       "        vertical-align: middle;\n",
       "    }\n",
       "\n",
       "    .dataframe tbody tr th {\n",
       "        vertical-align: top;\n",
       "    }\n",
       "\n",
       "    .dataframe thead th {\n",
       "        text-align: right;\n",
       "    }\n",
       "</style>\n",
       "<table border=\"1\" class=\"dataframe\">\n",
       "  <thead>\n",
       "    <tr style=\"text-align: right;\">\n",
       "      <th></th>\n",
       "      <th>longitude</th>\n",
       "      <th>latitude</th>\n",
       "      <th>housing_median_age</th>\n",
       "      <th>total_rooms</th>\n",
       "      <th>total_bedrooms</th>\n",
       "      <th>population</th>\n",
       "      <th>households</th>\n",
       "      <th>median_income</th>\n",
       "      <th>median_house_value</th>\n",
       "      <th>ocean_proximity</th>\n",
       "      <th>clusters</th>\n",
       "    </tr>\n",
       "  </thead>\n",
       "  <tbody>\n",
       "    <tr>\n",
       "      <th>0</th>\n",
       "      <td>-122.23</td>\n",
       "      <td>37.88</td>\n",
       "      <td>41.0</td>\n",
       "      <td>880.0</td>\n",
       "      <td>129.0</td>\n",
       "      <td>322.0</td>\n",
       "      <td>126.0</td>\n",
       "      <td>8.3252</td>\n",
       "      <td>452600.0</td>\n",
       "      <td>NEAR BAY</td>\n",
       "      <td>0</td>\n",
       "    </tr>\n",
       "    <tr>\n",
       "      <th>1</th>\n",
       "      <td>-122.22</td>\n",
       "      <td>37.86</td>\n",
       "      <td>21.0</td>\n",
       "      <td>7099.0</td>\n",
       "      <td>1106.0</td>\n",
       "      <td>2401.0</td>\n",
       "      <td>1138.0</td>\n",
       "      <td>8.3014</td>\n",
       "      <td>358500.0</td>\n",
       "      <td>NEAR BAY</td>\n",
       "      <td>0</td>\n",
       "    </tr>\n",
       "    <tr>\n",
       "      <th>2</th>\n",
       "      <td>-122.24</td>\n",
       "      <td>37.85</td>\n",
       "      <td>52.0</td>\n",
       "      <td>1467.0</td>\n",
       "      <td>190.0</td>\n",
       "      <td>496.0</td>\n",
       "      <td>177.0</td>\n",
       "      <td>7.2574</td>\n",
       "      <td>352100.0</td>\n",
       "      <td>NEAR BAY</td>\n",
       "      <td>0</td>\n",
       "    </tr>\n",
       "    <tr>\n",
       "      <th>3</th>\n",
       "      <td>-122.25</td>\n",
       "      <td>37.85</td>\n",
       "      <td>52.0</td>\n",
       "      <td>1274.0</td>\n",
       "      <td>235.0</td>\n",
       "      <td>558.0</td>\n",
       "      <td>219.0</td>\n",
       "      <td>5.6431</td>\n",
       "      <td>341300.0</td>\n",
       "      <td>NEAR BAY</td>\n",
       "      <td>0</td>\n",
       "    </tr>\n",
       "    <tr>\n",
       "      <th>4</th>\n",
       "      <td>-122.25</td>\n",
       "      <td>37.85</td>\n",
       "      <td>52.0</td>\n",
       "      <td>1627.0</td>\n",
       "      <td>280.0</td>\n",
       "      <td>565.0</td>\n",
       "      <td>259.0</td>\n",
       "      <td>3.8462</td>\n",
       "      <td>342200.0</td>\n",
       "      <td>NEAR BAY</td>\n",
       "      <td>0</td>\n",
       "    </tr>\n",
       "  </tbody>\n",
       "</table>\n",
       "</div>"
      ],
      "text/plain": [
       "   longitude  latitude  housing_median_age  total_rooms  total_bedrooms  \\\n",
       "0    -122.23     37.88                41.0        880.0           129.0   \n",
       "1    -122.22     37.86                21.0       7099.0          1106.0   \n",
       "2    -122.24     37.85                52.0       1467.0           190.0   \n",
       "3    -122.25     37.85                52.0       1274.0           235.0   \n",
       "4    -122.25     37.85                52.0       1627.0           280.0   \n",
       "\n",
       "   population  households  median_income  median_house_value ocean_proximity  \\\n",
       "0       322.0       126.0         8.3252            452600.0        NEAR BAY   \n",
       "1      2401.0      1138.0         8.3014            358500.0        NEAR BAY   \n",
       "2       496.0       177.0         7.2574            352100.0        NEAR BAY   \n",
       "3       558.0       219.0         5.6431            341300.0        NEAR BAY   \n",
       "4       565.0       259.0         3.8462            342200.0        NEAR BAY   \n",
       "\n",
       "  clusters  \n",
       "0        0  \n",
       "1        0  \n",
       "2        0  \n",
       "3        0  \n",
       "4        0  "
      ]
     },
     "execution_count": 23,
     "metadata": {},
     "output_type": "execute_result"
    }
   ],
   "source": [
    "data['clusters'] = kmeans.fit_predict(X)\n",
    "data['clusters'] = data['clusters'].astype(\"category\")\n",
    "data.head()"
   ]
  },
  {
   "cell_type": "code",
   "execution_count": 24,
   "id": "0be8becb",
   "metadata": {
    "execution": {
     "iopub.execute_input": "2021-09-23T10:39:03.944797Z",
     "iopub.status.busy": "2021-09-23T10:39:03.944107Z",
     "iopub.status.idle": "2021-09-23T10:39:05.923218Z",
     "shell.execute_reply": "2021-09-23T10:39:05.923650Z",
     "shell.execute_reply.started": "2021-09-23T10:21:55.709091Z"
    },
    "papermill": {
     "duration": 2.025462,
     "end_time": "2021-09-23T10:39:05.923822",
     "exception": false,
     "start_time": "2021-09-23T10:39:03.898360",
     "status": "completed"
    },
    "tags": []
   },
   "outputs": [
    {
     "data": {
      "text/plain": [
       "<seaborn.axisgrid.FacetGrid at 0x7f8bb8fa9b10>"
      ]
     },
     "execution_count": 24,
     "metadata": {},
     "output_type": "execute_result"
    },
    {
     "data": {
      "image/png": "[encoded data removed]",
      "text/plain": [
       "<Figure size 426.45x360 with 1 Axes>"
      ]
     },
     "metadata": {},
     "output_type": "display_data"
    }
   ],
   "source": [
    "sns.set_style('whitegrid')\n",
    "sns.relplot(x='longitude', y='latitude', hue='clusters', data=data, kind='scatter')"
   ]
  }
 ],
 "metadata": {
  "kernelspec": {
   "display_name": "Python 3",
   "language": "python",
   "name": "python3"
  },
  "language_info": {
   "codemirror_mode": {
    "name": "ipython",
    "version": 3
   },
   "file_extension": ".py",
   "mimetype": "text/x-python",
   "name": "python",
   "nbconvert_exporter": "python",
   "pygments_lexer": "ipython3",
   "version": "3.7.10"
  },
  "papermill": {
   "default_parameters": {},
   "duration": 76.781851,
   "end_time": "2021-09-23T10:39:07.168772",
   "environment_variables": {},
   "exception": null,
   "input_path": "__notebook__.ipynb",
   "output_path": "__notebook__.ipynb",
   "parameters": {},
   "start_time": "2021-09-23T10:37:50.386921",
   "version": "2.3.3"
  }
 },
 "nbformat": 4,
 "nbformat_minor": 5
}
